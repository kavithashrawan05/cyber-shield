{
 "cells": [
  {
   "cell_type": "code",
   "execution_count": 1,
   "id": "dcb5d738",
   "metadata": {
    "scrolled": true
   },
   "outputs": [
    {
     "name": "stdout",
     "output_type": "stream",
     "text": [
      " * Serving Flask app '__main__' (lazy loading)\n",
      " * Environment: production\n",
      "\u001b[31m   WARNING: This is a development server. Do not use it in a production deployment.\u001b[0m\n",
      "\u001b[2m   Use a production WSGI server instead.\u001b[0m\n",
      " * Debug mode: on\n"
     ]
    },
    {
     "name": "stderr",
     "output_type": "stream",
     "text": [
      " * Running on http://127.0.0.1:5000/ (Press CTRL+C to quit)\n",
      "127.0.0.1 - - [31/Oct/2025 12:48:55] \"GET / HTTP/1.1\" 200 -\n",
      "127.0.0.1 - - [31/Oct/2025 12:48:55] \"GET /favicon.ico HTTP/1.1\" 404 -\n",
      "127.0.0.1 - - [31/Oct/2025 12:52:43] \"GET / HTTP/1.1\" 200 -\n"
     ]
    }
   ],
   "source": [
    "from flask import Flask\n",
    "import threading\n",
    "\n",
    "app = Flask(__name__)\n",
    "\n",
    "@app.route('/')\n",
    "def home():\n",
    "    return \"Hello from Flask inside Jupyter!\"\n",
    "\n",
    "def run_app():\n",
    "    app.run(debug=True, use_reloader=False)\n",
    "\n",
    "threading.Thread(target=run_app).start()"
   ]
  },
  {
   "cell_type": "code",
   "execution_count": 3,
   "id": "e11e8cee",
   "metadata": {},
   "outputs": [],
   "source": [
    "from flask import Flask, render_template, send_file\n",
    "import os\n",
    "\n",
    "app = Flask(__name__)\n",
    "\n",
    "@app.route('/')\n",
    "def index():\n",
    "    return '''\n",
    "    <h1>Cyberattack Simulation Dashboard</h1>\n",
    "    <ul>\n",
    "        <li><a href=\"/phishing\">Phishing Report</a></li>\n",
    "        <li><a href=\"/ransomware\">Ransomware Chart</a></li>\n",
    "        <li><a href=\"/ddos\">DDoS Alerts (JSON)</a></li>\n",
    "    </ul>\n",
    "    '''\n",
    "\n",
    "@app.route('/phishing')\n",
    "def phishing():\n",
    "    return send_file('outputs/phishing_report.html')\n",
    "\n",
    "# ... other routes for ransomware and ddos"
   ]
  },
  {
   "cell_type": "code",
   "execution_count": 4,
   "id": "df4bf5df",
   "metadata": {},
   "outputs": [
    {
     "ename": "SyntaxError",
     "evalue": "invalid syntax (<ipython-input-4-b851947b46d7>, line 1)",
     "output_type": "error",
     "traceback": [
      "\u001b[1;36m  File \u001b[1;32m\"<ipython-input-4-b851947b46d7>\"\u001b[1;36m, line \u001b[1;32m1\u001b[0m\n\u001b[1;33m    python app.py\u001b[0m\n\u001b[1;37m             ^\u001b[0m\n\u001b[1;31mSyntaxError\u001b[0m\u001b[1;31m:\u001b[0m invalid syntax\n"
     ]
    }
   ],
   "source": []
  },
  {
   "cell_type": "code",
   "execution_count": null,
   "id": "bb53bf1e",
   "metadata": {},
   "outputs": [],
   "source": []
  }
 ],
 "metadata": {
  "kernelspec": {
   "display_name": "Python 3",
   "language": "python",
   "name": "python3"
  },
  "language_info": {
   "codemirror_mode": {
    "name": "ipython",
    "version": 3
   },
   "file_extension": ".py",
   "mimetype": "text/x-python",
   "name": "python",
   "nbconvert_exporter": "python",
   "pygments_lexer": "ipython3",
   "version": "3.6.2"
  }
 },
 "nbformat": 4,
 "nbformat_minor": 5
}
